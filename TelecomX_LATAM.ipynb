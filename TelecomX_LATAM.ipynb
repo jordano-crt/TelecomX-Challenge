{
  "nbformat": 4,
  "nbformat_minor": 0,
  "metadata": {
    "colab": {
      "provenance": [],
      "toc_visible": true,
      "include_colab_link": true
    },
    "kernelspec": {
      "name": "python3",
      "display_name": "Python 3"
    },
    "language_info": {
      "name": "python"
    }
  },
  "cells": [
    {
      "cell_type": "markdown",
      "metadata": {
        "id": "view-in-github",
        "colab_type": "text"
      },
      "source": [
        "<a href=\"https://colab.research.google.com/github/jordano-crt/TelecomX-Challenge/blob/main/TelecomX_LATAM.ipynb\" target=\"_parent\"><img src=\"https://colab.research.google.com/assets/colab-badge.svg\" alt=\"Open In Colab\"/></a>"
      ]
    },
    {
      "cell_type": "markdown",
      "source": [
        "#📌 Extracción"
      ],
      "metadata": {
        "id": "4foVEKhrlqcH"
      }
    },
    {
      "cell_type": "markdown",
      "source": [
        "Comenzamos, cargando los datos de los links de github provisto para manipulación"
      ],
      "metadata": {
        "id": "P4UW--LGRae5"
      }
    },
    {
      "cell_type": "code",
      "source": [
        "import pandas as pd\n",
        "import requests\n",
        "import json"
      ],
      "metadata": {
        "id": "TFcYkNNsRpQr"
      },
      "execution_count": 29,
      "outputs": []
    },
    {
      "cell_type": "code",
      "source": [
        "URL = 'https://raw.githubusercontent.com/alura-cursos/challenge2-data-science-LATAM/refs/heads/main/TelecomX_Data.json'\n"
      ],
      "metadata": {
        "id": "1--uPM88l7JH"
      },
      "execution_count": 30,
      "outputs": []
    },
    {
      "cell_type": "code",
      "source": [
        "response = requests.get(URL)\n",
        "datos = response.json()\n",
        "dataFrame_datos = pd.DataFrame(datos)"
      ],
      "metadata": {
        "id": "k1R9fFurWF7s"
      },
      "execution_count": 31,
      "outputs": []
    },
    {
      "cell_type": "markdown",
      "source": [
        "#🔧 Transformación"
      ],
      "metadata": {
        "id": "1lSZP8zmmGZu"
      }
    },
    {
      "cell_type": "markdown",
      "source": [
        "### Conociendo la estructura del dataset"
      ],
      "metadata": {
        "id": "3s2lR_NnaFLV"
      }
    },
    {
      "cell_type": "markdown",
      "source": [
        "El conjunto de datos esta subido a un archivo de tipo json, los cuales son un conjunto de diccionarios, listas o arrays, los cuales pueden estar anidados entres los datos. Como se muestra a continuación."
      ],
      "metadata": {
        "id": "4sGnCtGraO5n"
      }
    },
    {
      "cell_type": "code",
      "source": [
        "dataFrame_datos.sample(5)# se debe normalizar"
      ],
      "metadata": {
        "colab": {
          "base_uri": "https://localhost:8080/",
          "height": 293
        },
        "id": "RObOZMiRTqhT",
        "outputId": "2f90aab7-d35c-45a9-c93c-58eb3154d149"
      },
      "execution_count": 32,
      "outputs": [
        {
          "output_type": "execute_result",
          "data": {
            "text/plain": [
              "      customerID Churn                                           customer  \\\n",
              "3544  4884-LEVMQ    No  {'gender': 'Male', 'SeniorCitizen': 0, 'Partne...   \n",
              "3996  5461-QKNTN    No  {'gender': 'Male', 'SeniorCitizen': 1, 'Partne...   \n",
              "6220  8559-WNQZS    No  {'gender': 'Male', 'SeniorCitizen': 0, 'Partne...   \n",
              "3231  4512-ZUIYL   Yes  {'gender': 'Female', 'SeniorCitizen': 0, 'Part...   \n",
              "1500  2155-AMQRX    No  {'gender': 'Female', 'SeniorCitizen': 0, 'Part...   \n",
              "\n",
              "                                                phone  \\\n",
              "3544   {'PhoneService': 'Yes', 'MultipleLines': 'No'}   \n",
              "3996  {'PhoneService': 'Yes', 'MultipleLines': 'Yes'}   \n",
              "6220   {'PhoneService': 'Yes', 'MultipleLines': 'No'}   \n",
              "3231   {'PhoneService': 'Yes', 'MultipleLines': 'No'}   \n",
              "1500  {'PhoneService': 'Yes', 'MultipleLines': 'Yes'}   \n",
              "\n",
              "                                               internet  \\\n",
              "3544  {'InternetService': 'No', 'OnlineSecurity': 'N...   \n",
              "3996  {'InternetService': 'Fiber optic', 'OnlineSecu...   \n",
              "6220  {'InternetService': 'No', 'OnlineSecurity': 'N...   \n",
              "3231  {'InternetService': 'Fiber optic', 'OnlineSecu...   \n",
              "1500  {'InternetService': 'DSL', 'OnlineSecurity': '...   \n",
              "\n",
              "                                                account  \n",
              "3544  {'Contract': 'Two year', 'PaperlessBilling': '...  \n",
              "3996  {'Contract': 'Month-to-month', 'PaperlessBilli...  \n",
              "6220  {'Contract': 'Two year', 'PaperlessBilling': '...  \n",
              "3231  {'Contract': 'Month-to-month', 'PaperlessBilli...  \n",
              "1500  {'Contract': 'Month-to-month', 'PaperlessBilli...  "
            ],
            "text/html": [
              "\n",
              "  <div id=\"df-4b9134c5-af77-4970-b019-f31500763943\" class=\"colab-df-container\">\n",
              "    <div>\n",
              "<style scoped>\n",
              "    .dataframe tbody tr th:only-of-type {\n",
              "        vertical-align: middle;\n",
              "    }\n",
              "\n",
              "    .dataframe tbody tr th {\n",
              "        vertical-align: top;\n",
              "    }\n",
              "\n",
              "    .dataframe thead th {\n",
              "        text-align: right;\n",
              "    }\n",
              "</style>\n",
              "<table border=\"1\" class=\"dataframe\">\n",
              "  <thead>\n",
              "    <tr style=\"text-align: right;\">\n",
              "      <th></th>\n",
              "      <th>customerID</th>\n",
              "      <th>Churn</th>\n",
              "      <th>customer</th>\n",
              "      <th>phone</th>\n",
              "      <th>internet</th>\n",
              "      <th>account</th>\n",
              "    </tr>\n",
              "  </thead>\n",
              "  <tbody>\n",
              "    <tr>\n",
              "      <th>3544</th>\n",
              "      <td>4884-LEVMQ</td>\n",
              "      <td>No</td>\n",
              "      <td>{'gender': 'Male', 'SeniorCitizen': 0, 'Partne...</td>\n",
              "      <td>{'PhoneService': 'Yes', 'MultipleLines': 'No'}</td>\n",
              "      <td>{'InternetService': 'No', 'OnlineSecurity': 'N...</td>\n",
              "      <td>{'Contract': 'Two year', 'PaperlessBilling': '...</td>\n",
              "    </tr>\n",
              "    <tr>\n",
              "      <th>3996</th>\n",
              "      <td>5461-QKNTN</td>\n",
              "      <td>No</td>\n",
              "      <td>{'gender': 'Male', 'SeniorCitizen': 1, 'Partne...</td>\n",
              "      <td>{'PhoneService': 'Yes', 'MultipleLines': 'Yes'}</td>\n",
              "      <td>{'InternetService': 'Fiber optic', 'OnlineSecu...</td>\n",
              "      <td>{'Contract': 'Month-to-month', 'PaperlessBilli...</td>\n",
              "    </tr>\n",
              "    <tr>\n",
              "      <th>6220</th>\n",
              "      <td>8559-WNQZS</td>\n",
              "      <td>No</td>\n",
              "      <td>{'gender': 'Male', 'SeniorCitizen': 0, 'Partne...</td>\n",
              "      <td>{'PhoneService': 'Yes', 'MultipleLines': 'No'}</td>\n",
              "      <td>{'InternetService': 'No', 'OnlineSecurity': 'N...</td>\n",
              "      <td>{'Contract': 'Two year', 'PaperlessBilling': '...</td>\n",
              "    </tr>\n",
              "    <tr>\n",
              "      <th>3231</th>\n",
              "      <td>4512-ZUIYL</td>\n",
              "      <td>Yes</td>\n",
              "      <td>{'gender': 'Female', 'SeniorCitizen': 0, 'Part...</td>\n",
              "      <td>{'PhoneService': 'Yes', 'MultipleLines': 'No'}</td>\n",
              "      <td>{'InternetService': 'Fiber optic', 'OnlineSecu...</td>\n",
              "      <td>{'Contract': 'Month-to-month', 'PaperlessBilli...</td>\n",
              "    </tr>\n",
              "    <tr>\n",
              "      <th>1500</th>\n",
              "      <td>2155-AMQRX</td>\n",
              "      <td>No</td>\n",
              "      <td>{'gender': 'Female', 'SeniorCitizen': 0, 'Part...</td>\n",
              "      <td>{'PhoneService': 'Yes', 'MultipleLines': 'Yes'}</td>\n",
              "      <td>{'InternetService': 'DSL', 'OnlineSecurity': '...</td>\n",
              "      <td>{'Contract': 'Month-to-month', 'PaperlessBilli...</td>\n",
              "    </tr>\n",
              "  </tbody>\n",
              "</table>\n",
              "</div>\n",
              "    <div class=\"colab-df-buttons\">\n",
              "\n",
              "  <div class=\"colab-df-container\">\n",
              "    <button class=\"colab-df-convert\" onclick=\"convertToInteractive('df-4b9134c5-af77-4970-b019-f31500763943')\"\n",
              "            title=\"Convert this dataframe to an interactive table.\"\n",
              "            style=\"display:none;\">\n",
              "\n",
              "  <svg xmlns=\"http://www.w3.org/2000/svg\" height=\"24px\" viewBox=\"0 -960 960 960\">\n",
              "    <path d=\"M120-120v-720h720v720H120Zm60-500h600v-160H180v160Zm220 220h160v-160H400v160Zm0 220h160v-160H400v160ZM180-400h160v-160H180v160Zm440 0h160v-160H620v160ZM180-180h160v-160H180v160Zm440 0h160v-160H620v160Z\"/>\n",
              "  </svg>\n",
              "    </button>\n",
              "\n",
              "  <style>\n",
              "    .colab-df-container {\n",
              "      display:flex;\n",
              "      gap: 12px;\n",
              "    }\n",
              "\n",
              "    .colab-df-convert {\n",
              "      background-color: #E8F0FE;\n",
              "      border: none;\n",
              "      border-radius: 50%;\n",
              "      cursor: pointer;\n",
              "      display: none;\n",
              "      fill: #1967D2;\n",
              "      height: 32px;\n",
              "      padding: 0 0 0 0;\n",
              "      width: 32px;\n",
              "    }\n",
              "\n",
              "    .colab-df-convert:hover {\n",
              "      background-color: #E2EBFA;\n",
              "      box-shadow: 0px 1px 2px rgba(60, 64, 67, 0.3), 0px 1px 3px 1px rgba(60, 64, 67, 0.15);\n",
              "      fill: #174EA6;\n",
              "    }\n",
              "\n",
              "    .colab-df-buttons div {\n",
              "      margin-bottom: 4px;\n",
              "    }\n",
              "\n",
              "    [theme=dark] .colab-df-convert {\n",
              "      background-color: #3B4455;\n",
              "      fill: #D2E3FC;\n",
              "    }\n",
              "\n",
              "    [theme=dark] .colab-df-convert:hover {\n",
              "      background-color: #434B5C;\n",
              "      box-shadow: 0px 1px 3px 1px rgba(0, 0, 0, 0.15);\n",
              "      filter: drop-shadow(0px 1px 2px rgba(0, 0, 0, 0.3));\n",
              "      fill: #FFFFFF;\n",
              "    }\n",
              "  </style>\n",
              "\n",
              "    <script>\n",
              "      const buttonEl =\n",
              "        document.querySelector('#df-4b9134c5-af77-4970-b019-f31500763943 button.colab-df-convert');\n",
              "      buttonEl.style.display =\n",
              "        google.colab.kernel.accessAllowed ? 'block' : 'none';\n",
              "\n",
              "      async function convertToInteractive(key) {\n",
              "        const element = document.querySelector('#df-4b9134c5-af77-4970-b019-f31500763943');\n",
              "        const dataTable =\n",
              "          await google.colab.kernel.invokeFunction('convertToInteractive',\n",
              "                                                    [key], {});\n",
              "        if (!dataTable) return;\n",
              "\n",
              "        const docLinkHtml = 'Like what you see? Visit the ' +\n",
              "          '<a target=\"_blank\" href=https://colab.research.google.com/notebooks/data_table.ipynb>data table notebook</a>'\n",
              "          + ' to learn more about interactive tables.';\n",
              "        element.innerHTML = '';\n",
              "        dataTable['output_type'] = 'display_data';\n",
              "        await google.colab.output.renderOutput(dataTable, element);\n",
              "        const docLink = document.createElement('div');\n",
              "        docLink.innerHTML = docLinkHtml;\n",
              "        element.appendChild(docLink);\n",
              "      }\n",
              "    </script>\n",
              "  </div>\n",
              "\n",
              "\n",
              "    <div id=\"df-ea0d606f-e859-4cd4-a6a2-72c17aef33ad\">\n",
              "      <button class=\"colab-df-quickchart\" onclick=\"quickchart('df-ea0d606f-e859-4cd4-a6a2-72c17aef33ad')\"\n",
              "                title=\"Suggest charts\"\n",
              "                style=\"display:none;\">\n",
              "\n",
              "<svg xmlns=\"http://www.w3.org/2000/svg\" height=\"24px\"viewBox=\"0 0 24 24\"\n",
              "     width=\"24px\">\n",
              "    <g>\n",
              "        <path d=\"M19 3H5c-1.1 0-2 .9-2 2v14c0 1.1.9 2 2 2h14c1.1 0 2-.9 2-2V5c0-1.1-.9-2-2-2zM9 17H7v-7h2v7zm4 0h-2V7h2v10zm4 0h-2v-4h2v4z\"/>\n",
              "    </g>\n",
              "</svg>\n",
              "      </button>\n",
              "\n",
              "<style>\n",
              "  .colab-df-quickchart {\n",
              "      --bg-color: #E8F0FE;\n",
              "      --fill-color: #1967D2;\n",
              "      --hover-bg-color: #E2EBFA;\n",
              "      --hover-fill-color: #174EA6;\n",
              "      --disabled-fill-color: #AAA;\n",
              "      --disabled-bg-color: #DDD;\n",
              "  }\n",
              "\n",
              "  [theme=dark] .colab-df-quickchart {\n",
              "      --bg-color: #3B4455;\n",
              "      --fill-color: #D2E3FC;\n",
              "      --hover-bg-color: #434B5C;\n",
              "      --hover-fill-color: #FFFFFF;\n",
              "      --disabled-bg-color: #3B4455;\n",
              "      --disabled-fill-color: #666;\n",
              "  }\n",
              "\n",
              "  .colab-df-quickchart {\n",
              "    background-color: var(--bg-color);\n",
              "    border: none;\n",
              "    border-radius: 50%;\n",
              "    cursor: pointer;\n",
              "    display: none;\n",
              "    fill: var(--fill-color);\n",
              "    height: 32px;\n",
              "    padding: 0;\n",
              "    width: 32px;\n",
              "  }\n",
              "\n",
              "  .colab-df-quickchart:hover {\n",
              "    background-color: var(--hover-bg-color);\n",
              "    box-shadow: 0 1px 2px rgba(60, 64, 67, 0.3), 0 1px 3px 1px rgba(60, 64, 67, 0.15);\n",
              "    fill: var(--button-hover-fill-color);\n",
              "  }\n",
              "\n",
              "  .colab-df-quickchart-complete:disabled,\n",
              "  .colab-df-quickchart-complete:disabled:hover {\n",
              "    background-color: var(--disabled-bg-color);\n",
              "    fill: var(--disabled-fill-color);\n",
              "    box-shadow: none;\n",
              "  }\n",
              "\n",
              "  .colab-df-spinner {\n",
              "    border: 2px solid var(--fill-color);\n",
              "    border-color: transparent;\n",
              "    border-bottom-color: var(--fill-color);\n",
              "    animation:\n",
              "      spin 1s steps(1) infinite;\n",
              "  }\n",
              "\n",
              "  @keyframes spin {\n",
              "    0% {\n",
              "      border-color: transparent;\n",
              "      border-bottom-color: var(--fill-color);\n",
              "      border-left-color: var(--fill-color);\n",
              "    }\n",
              "    20% {\n",
              "      border-color: transparent;\n",
              "      border-left-color: var(--fill-color);\n",
              "      border-top-color: var(--fill-color);\n",
              "    }\n",
              "    30% {\n",
              "      border-color: transparent;\n",
              "      border-left-color: var(--fill-color);\n",
              "      border-top-color: var(--fill-color);\n",
              "      border-right-color: var(--fill-color);\n",
              "    }\n",
              "    40% {\n",
              "      border-color: transparent;\n",
              "      border-right-color: var(--fill-color);\n",
              "      border-top-color: var(--fill-color);\n",
              "    }\n",
              "    60% {\n",
              "      border-color: transparent;\n",
              "      border-right-color: var(--fill-color);\n",
              "    }\n",
              "    80% {\n",
              "      border-color: transparent;\n",
              "      border-right-color: var(--fill-color);\n",
              "      border-bottom-color: var(--fill-color);\n",
              "    }\n",
              "    90% {\n",
              "      border-color: transparent;\n",
              "      border-bottom-color: var(--fill-color);\n",
              "    }\n",
              "  }\n",
              "</style>\n",
              "\n",
              "      <script>\n",
              "        async function quickchart(key) {\n",
              "          const quickchartButtonEl =\n",
              "            document.querySelector('#' + key + ' button');\n",
              "          quickchartButtonEl.disabled = true;  // To prevent multiple clicks.\n",
              "          quickchartButtonEl.classList.add('colab-df-spinner');\n",
              "          try {\n",
              "            const charts = await google.colab.kernel.invokeFunction(\n",
              "                'suggestCharts', [key], {});\n",
              "          } catch (error) {\n",
              "            console.error('Error during call to suggestCharts:', error);\n",
              "          }\n",
              "          quickchartButtonEl.classList.remove('colab-df-spinner');\n",
              "          quickchartButtonEl.classList.add('colab-df-quickchart-complete');\n",
              "        }\n",
              "        (() => {\n",
              "          let quickchartButtonEl =\n",
              "            document.querySelector('#df-ea0d606f-e859-4cd4-a6a2-72c17aef33ad button');\n",
              "          quickchartButtonEl.style.display =\n",
              "            google.colab.kernel.accessAllowed ? 'block' : 'none';\n",
              "        })();\n",
              "      </script>\n",
              "    </div>\n",
              "\n",
              "    </div>\n",
              "  </div>\n"
            ],
            "application/vnd.google.colaboratory.intrinsic+json": {
              "type": "dataframe",
              "summary": "{\n  \"name\": \"dataFrame_datos\",\n  \"rows\": 5,\n  \"fields\": [\n    {\n      \"column\": \"customerID\",\n      \"properties\": {\n        \"dtype\": \"string\",\n        \"num_unique_values\": 5,\n        \"samples\": [\n          \"5461-QKNTN\",\n          \"2155-AMQRX\",\n          \"8559-WNQZS\"\n        ],\n        \"semantic_type\": \"\",\n        \"description\": \"\"\n      }\n    },\n    {\n      \"column\": \"Churn\",\n      \"properties\": {\n        \"dtype\": \"category\",\n        \"num_unique_values\": 2,\n        \"samples\": [\n          \"Yes\",\n          \"No\"\n        ],\n        \"semantic_type\": \"\",\n        \"description\": \"\"\n      }\n    },\n    {\n      \"column\": \"customer\",\n      \"properties\": {\n        \"dtype\": \"object\",\n        \"semantic_type\": \"\",\n        \"description\": \"\"\n      }\n    },\n    {\n      \"column\": \"phone\",\n      \"properties\": {\n        \"dtype\": \"object\",\n        \"semantic_type\": \"\",\n        \"description\": \"\"\n      }\n    },\n    {\n      \"column\": \"internet\",\n      \"properties\": {\n        \"dtype\": \"object\",\n        \"semantic_type\": \"\",\n        \"description\": \"\"\n      }\n    },\n    {\n      \"column\": \"account\",\n      \"properties\": {\n        \"dtype\": \"object\",\n        \"semantic_type\": \"\",\n        \"description\": \"\"\n      }\n    }\n  ]\n}"
            }
          },
          "metadata": {},
          "execution_count": 32
        }
      ]
    },
    {
      "cell_type": "markdown",
      "source": [
        "Como se observa en *dataFrame_datos.sample(5)*, no estrega 5 ejemplos aleatorios de DataFrame de pandas. Se vizualizan 6 columnas de las cuales 4 desde 'customer' a 'account' son objetos de tipo diccionario, los cuales debemos descomponer es culumnas separadas. Para ello se utilizar *pd.json_normalize()*"
      ],
      "metadata": {
        "id": "aWClHZNKb35l"
      }
    },
    {
      "cell_type": "code",
      "source": [
        "datos_nomalizados = pd.json_normalize(datos)"
      ],
      "metadata": {
        "id": "hUmNtuDLSSCX"
      },
      "execution_count": 33,
      "outputs": []
    },
    {
      "cell_type": "markdown",
      "source": [
        "Podemos visualizar la cantidad de filas y columnas que contiene nuestro conjunto de datos con *datos_normalizados.shape*. Que nos muestra un total de 7267 filas con 21 columnas."
      ],
      "metadata": {
        "id": "9lcQYePKCrdQ"
      }
    },
    {
      "cell_type": "code",
      "source": [
        "datos_nomalizados.shape"
      ],
      "metadata": {
        "colab": {
          "base_uri": "https://localhost:8080/"
        },
        "id": "1tKePgnsCmQn",
        "outputId": "244232f9-4cb6-4b1c-8ca3-f9b6e6eb148b"
      },
      "execution_count": 34,
      "outputs": [
        {
          "output_type": "execute_result",
          "data": {
            "text/plain": [
              "(7267, 21)"
            ]
          },
          "metadata": {},
          "execution_count": 34
        }
      ]
    },
    {
      "cell_type": "code",
      "source": [
        "datos_nomalizados.sample(5)"
      ],
      "metadata": {
        "colab": {
          "base_uri": "https://localhost:8080/",
          "height": 290
        },
        "id": "R5_2IxZ7dGqb",
        "outputId": "996e01bf-f4b8-49f5-f38a-c5e1f996817c"
      },
      "execution_count": 35,
      "outputs": [
        {
          "output_type": "execute_result",
          "data": {
            "text/plain": [
              "      customerID Churn customer.gender  customer.SeniorCitizen  \\\n",
              "2977  4130-MZLCC    No          Female                       0   \n",
              "2736  3786-WOVKF    No          Female                       1   \n",
              "3924  5365-FJKGQ                  Male                       0   \n",
              "5152  7029-IJEJK    No          Female                       0   \n",
              "491   0691-NIKRI    No          Female                       0   \n",
              "\n",
              "     customer.Partner customer.Dependents  customer.tenure phone.PhoneService  \\\n",
              "2977               No                  No                5                Yes   \n",
              "2736              Yes                  No               72                Yes   \n",
              "3924               No                  No               25                Yes   \n",
              "5152               No                  No               54                 No   \n",
              "491                No                  No               40                Yes   \n",
              "\n",
              "     phone.MultipleLines internet.InternetService  ... internet.OnlineBackup  \\\n",
              "2977                  No                      DSL  ...                   Yes   \n",
              "2736                 Yes              Fiber optic  ...                   Yes   \n",
              "3924                  No              Fiber optic  ...                    No   \n",
              "5152    No phone service                      DSL  ...                    No   \n",
              "491                  Yes              Fiber optic  ...                    No   \n",
              "\n",
              "     internet.DeviceProtection internet.TechSupport internet.StreamingTV  \\\n",
              "2977                        No                   No                   No   \n",
              "2736                        No                   No                  Yes   \n",
              "3924                        No                   No                   No   \n",
              "5152                        No                  Yes                   No   \n",
              "491                        Yes                  Yes                  Yes   \n",
              "\n",
              "     internet.StreamingMovies account.Contract account.PaperlessBilling  \\\n",
              "2977                       No   Month-to-month                       No   \n",
              "2736                      Yes         One year                      Yes   \n",
              "3924                       No   Month-to-month                       No   \n",
              "5152                      Yes         One year                       No   \n",
              "491                       Yes         One year                      Yes   \n",
              "\n",
              "          account.PaymentMethod account.Charges.Monthly  account.Charges.Total  \n",
              "2977  Bank transfer (automatic)                   50.55                 244.75  \n",
              "2736  Bank transfer (automatic)                  106.85                 7677.4  \n",
              "3924               Mailed check                   70.95                1767.35  \n",
              "5152  Bank transfer (automatic)                   44.10                 2369.7  \n",
              "491     Credit card (automatic)                  105.95                 4335.2  \n",
              "\n",
              "[5 rows x 21 columns]"
            ],
            "text/html": [
              "\n",
              "  <div id=\"df-e42ec888-9818-41a2-b6af-aa1dc07c583b\" class=\"colab-df-container\">\n",
              "    <div>\n",
              "<style scoped>\n",
              "    .dataframe tbody tr th:only-of-type {\n",
              "        vertical-align: middle;\n",
              "    }\n",
              "\n",
              "    .dataframe tbody tr th {\n",
              "        vertical-align: top;\n",
              "    }\n",
              "\n",
              "    .dataframe thead th {\n",
              "        text-align: right;\n",
              "    }\n",
              "</style>\n",
              "<table border=\"1\" class=\"dataframe\">\n",
              "  <thead>\n",
              "    <tr style=\"text-align: right;\">\n",
              "      <th></th>\n",
              "      <th>customerID</th>\n",
              "      <th>Churn</th>\n",
              "      <th>customer.gender</th>\n",
              "      <th>customer.SeniorCitizen</th>\n",
              "      <th>customer.Partner</th>\n",
              "      <th>customer.Dependents</th>\n",
              "      <th>customer.tenure</th>\n",
              "      <th>phone.PhoneService</th>\n",
              "      <th>phone.MultipleLines</th>\n",
              "      <th>internet.InternetService</th>\n",
              "      <th>...</th>\n",
              "      <th>internet.OnlineBackup</th>\n",
              "      <th>internet.DeviceProtection</th>\n",
              "      <th>internet.TechSupport</th>\n",
              "      <th>internet.StreamingTV</th>\n",
              "      <th>internet.StreamingMovies</th>\n",
              "      <th>account.Contract</th>\n",
              "      <th>account.PaperlessBilling</th>\n",
              "      <th>account.PaymentMethod</th>\n",
              "      <th>account.Charges.Monthly</th>\n",
              "      <th>account.Charges.Total</th>\n",
              "    </tr>\n",
              "  </thead>\n",
              "  <tbody>\n",
              "    <tr>\n",
              "      <th>2977</th>\n",
              "      <td>4130-MZLCC</td>\n",
              "      <td>No</td>\n",
              "      <td>Female</td>\n",
              "      <td>0</td>\n",
              "      <td>No</td>\n",
              "      <td>No</td>\n",
              "      <td>5</td>\n",
              "      <td>Yes</td>\n",
              "      <td>No</td>\n",
              "      <td>DSL</td>\n",
              "      <td>...</td>\n",
              "      <td>Yes</td>\n",
              "      <td>No</td>\n",
              "      <td>No</td>\n",
              "      <td>No</td>\n",
              "      <td>No</td>\n",
              "      <td>Month-to-month</td>\n",
              "      <td>No</td>\n",
              "      <td>Bank transfer (automatic)</td>\n",
              "      <td>50.55</td>\n",
              "      <td>244.75</td>\n",
              "    </tr>\n",
              "    <tr>\n",
              "      <th>2736</th>\n",
              "      <td>3786-WOVKF</td>\n",
              "      <td>No</td>\n",
              "      <td>Female</td>\n",
              "      <td>1</td>\n",
              "      <td>Yes</td>\n",
              "      <td>No</td>\n",
              "      <td>72</td>\n",
              "      <td>Yes</td>\n",
              "      <td>Yes</td>\n",
              "      <td>Fiber optic</td>\n",
              "      <td>...</td>\n",
              "      <td>Yes</td>\n",
              "      <td>No</td>\n",
              "      <td>No</td>\n",
              "      <td>Yes</td>\n",
              "      <td>Yes</td>\n",
              "      <td>One year</td>\n",
              "      <td>Yes</td>\n",
              "      <td>Bank transfer (automatic)</td>\n",
              "      <td>106.85</td>\n",
              "      <td>7677.4</td>\n",
              "    </tr>\n",
              "    <tr>\n",
              "      <th>3924</th>\n",
              "      <td>5365-FJKGQ</td>\n",
              "      <td></td>\n",
              "      <td>Male</td>\n",
              "      <td>0</td>\n",
              "      <td>No</td>\n",
              "      <td>No</td>\n",
              "      <td>25</td>\n",
              "      <td>Yes</td>\n",
              "      <td>No</td>\n",
              "      <td>Fiber optic</td>\n",
              "      <td>...</td>\n",
              "      <td>No</td>\n",
              "      <td>No</td>\n",
              "      <td>No</td>\n",
              "      <td>No</td>\n",
              "      <td>No</td>\n",
              "      <td>Month-to-month</td>\n",
              "      <td>No</td>\n",
              "      <td>Mailed check</td>\n",
              "      <td>70.95</td>\n",
              "      <td>1767.35</td>\n",
              "    </tr>\n",
              "    <tr>\n",
              "      <th>5152</th>\n",
              "      <td>7029-IJEJK</td>\n",
              "      <td>No</td>\n",
              "      <td>Female</td>\n",
              "      <td>0</td>\n",
              "      <td>No</td>\n",
              "      <td>No</td>\n",
              "      <td>54</td>\n",
              "      <td>No</td>\n",
              "      <td>No phone service</td>\n",
              "      <td>DSL</td>\n",
              "      <td>...</td>\n",
              "      <td>No</td>\n",
              "      <td>No</td>\n",
              "      <td>Yes</td>\n",
              "      <td>No</td>\n",
              "      <td>Yes</td>\n",
              "      <td>One year</td>\n",
              "      <td>No</td>\n",
              "      <td>Bank transfer (automatic)</td>\n",
              "      <td>44.10</td>\n",
              "      <td>2369.7</td>\n",
              "    </tr>\n",
              "    <tr>\n",
              "      <th>491</th>\n",
              "      <td>0691-NIKRI</td>\n",
              "      <td>No</td>\n",
              "      <td>Female</td>\n",
              "      <td>0</td>\n",
              "      <td>No</td>\n",
              "      <td>No</td>\n",
              "      <td>40</td>\n",
              "      <td>Yes</td>\n",
              "      <td>Yes</td>\n",
              "      <td>Fiber optic</td>\n",
              "      <td>...</td>\n",
              "      <td>No</td>\n",
              "      <td>Yes</td>\n",
              "      <td>Yes</td>\n",
              "      <td>Yes</td>\n",
              "      <td>Yes</td>\n",
              "      <td>One year</td>\n",
              "      <td>Yes</td>\n",
              "      <td>Credit card (automatic)</td>\n",
              "      <td>105.95</td>\n",
              "      <td>4335.2</td>\n",
              "    </tr>\n",
              "  </tbody>\n",
              "</table>\n",
              "<p>5 rows × 21 columns</p>\n",
              "</div>\n",
              "    <div class=\"colab-df-buttons\">\n",
              "\n",
              "  <div class=\"colab-df-container\">\n",
              "    <button class=\"colab-df-convert\" onclick=\"convertToInteractive('df-e42ec888-9818-41a2-b6af-aa1dc07c583b')\"\n",
              "            title=\"Convert this dataframe to an interactive table.\"\n",
              "            style=\"display:none;\">\n",
              "\n",
              "  <svg xmlns=\"http://www.w3.org/2000/svg\" height=\"24px\" viewBox=\"0 -960 960 960\">\n",
              "    <path d=\"M120-120v-720h720v720H120Zm60-500h600v-160H180v160Zm220 220h160v-160H400v160Zm0 220h160v-160H400v160ZM180-400h160v-160H180v160Zm440 0h160v-160H620v160ZM180-180h160v-160H180v160Zm440 0h160v-160H620v160Z\"/>\n",
              "  </svg>\n",
              "    </button>\n",
              "\n",
              "  <style>\n",
              "    .colab-df-container {\n",
              "      display:flex;\n",
              "      gap: 12px;\n",
              "    }\n",
              "\n",
              "    .colab-df-convert {\n",
              "      background-color: #E8F0FE;\n",
              "      border: none;\n",
              "      border-radius: 50%;\n",
              "      cursor: pointer;\n",
              "      display: none;\n",
              "      fill: #1967D2;\n",
              "      height: 32px;\n",
              "      padding: 0 0 0 0;\n",
              "      width: 32px;\n",
              "    }\n",
              "\n",
              "    .colab-df-convert:hover {\n",
              "      background-color: #E2EBFA;\n",
              "      box-shadow: 0px 1px 2px rgba(60, 64, 67, 0.3), 0px 1px 3px 1px rgba(60, 64, 67, 0.15);\n",
              "      fill: #174EA6;\n",
              "    }\n",
              "\n",
              "    .colab-df-buttons div {\n",
              "      margin-bottom: 4px;\n",
              "    }\n",
              "\n",
              "    [theme=dark] .colab-df-convert {\n",
              "      background-color: #3B4455;\n",
              "      fill: #D2E3FC;\n",
              "    }\n",
              "\n",
              "    [theme=dark] .colab-df-convert:hover {\n",
              "      background-color: #434B5C;\n",
              "      box-shadow: 0px 1px 3px 1px rgba(0, 0, 0, 0.15);\n",
              "      filter: drop-shadow(0px 1px 2px rgba(0, 0, 0, 0.3));\n",
              "      fill: #FFFFFF;\n",
              "    }\n",
              "  </style>\n",
              "\n",
              "    <script>\n",
              "      const buttonEl =\n",
              "        document.querySelector('#df-e42ec888-9818-41a2-b6af-aa1dc07c583b button.colab-df-convert');\n",
              "      buttonEl.style.display =\n",
              "        google.colab.kernel.accessAllowed ? 'block' : 'none';\n",
              "\n",
              "      async function convertToInteractive(key) {\n",
              "        const element = document.querySelector('#df-e42ec888-9818-41a2-b6af-aa1dc07c583b');\n",
              "        const dataTable =\n",
              "          await google.colab.kernel.invokeFunction('convertToInteractive',\n",
              "                                                    [key], {});\n",
              "        if (!dataTable) return;\n",
              "\n",
              "        const docLinkHtml = 'Like what you see? Visit the ' +\n",
              "          '<a target=\"_blank\" href=https://colab.research.google.com/notebooks/data_table.ipynb>data table notebook</a>'\n",
              "          + ' to learn more about interactive tables.';\n",
              "        element.innerHTML = '';\n",
              "        dataTable['output_type'] = 'display_data';\n",
              "        await google.colab.output.renderOutput(dataTable, element);\n",
              "        const docLink = document.createElement('div');\n",
              "        docLink.innerHTML = docLinkHtml;\n",
              "        element.appendChild(docLink);\n",
              "      }\n",
              "    </script>\n",
              "  </div>\n",
              "\n",
              "\n",
              "    <div id=\"df-c8a96d35-bf40-45bf-a05d-ed5b8ec4e869\">\n",
              "      <button class=\"colab-df-quickchart\" onclick=\"quickchart('df-c8a96d35-bf40-45bf-a05d-ed5b8ec4e869')\"\n",
              "                title=\"Suggest charts\"\n",
              "                style=\"display:none;\">\n",
              "\n",
              "<svg xmlns=\"http://www.w3.org/2000/svg\" height=\"24px\"viewBox=\"0 0 24 24\"\n",
              "     width=\"24px\">\n",
              "    <g>\n",
              "        <path d=\"M19 3H5c-1.1 0-2 .9-2 2v14c0 1.1.9 2 2 2h14c1.1 0 2-.9 2-2V5c0-1.1-.9-2-2-2zM9 17H7v-7h2v7zm4 0h-2V7h2v10zm4 0h-2v-4h2v4z\"/>\n",
              "    </g>\n",
              "</svg>\n",
              "      </button>\n",
              "\n",
              "<style>\n",
              "  .colab-df-quickchart {\n",
              "      --bg-color: #E8F0FE;\n",
              "      --fill-color: #1967D2;\n",
              "      --hover-bg-color: #E2EBFA;\n",
              "      --hover-fill-color: #174EA6;\n",
              "      --disabled-fill-color: #AAA;\n",
              "      --disabled-bg-color: #DDD;\n",
              "  }\n",
              "\n",
              "  [theme=dark] .colab-df-quickchart {\n",
              "      --bg-color: #3B4455;\n",
              "      --fill-color: #D2E3FC;\n",
              "      --hover-bg-color: #434B5C;\n",
              "      --hover-fill-color: #FFFFFF;\n",
              "      --disabled-bg-color: #3B4455;\n",
              "      --disabled-fill-color: #666;\n",
              "  }\n",
              "\n",
              "  .colab-df-quickchart {\n",
              "    background-color: var(--bg-color);\n",
              "    border: none;\n",
              "    border-radius: 50%;\n",
              "    cursor: pointer;\n",
              "    display: none;\n",
              "    fill: var(--fill-color);\n",
              "    height: 32px;\n",
              "    padding: 0;\n",
              "    width: 32px;\n",
              "  }\n",
              "\n",
              "  .colab-df-quickchart:hover {\n",
              "    background-color: var(--hover-bg-color);\n",
              "    box-shadow: 0 1px 2px rgba(60, 64, 67, 0.3), 0 1px 3px 1px rgba(60, 64, 67, 0.15);\n",
              "    fill: var(--button-hover-fill-color);\n",
              "  }\n",
              "\n",
              "  .colab-df-quickchart-complete:disabled,\n",
              "  .colab-df-quickchart-complete:disabled:hover {\n",
              "    background-color: var(--disabled-bg-color);\n",
              "    fill: var(--disabled-fill-color);\n",
              "    box-shadow: none;\n",
              "  }\n",
              "\n",
              "  .colab-df-spinner {\n",
              "    border: 2px solid var(--fill-color);\n",
              "    border-color: transparent;\n",
              "    border-bottom-color: var(--fill-color);\n",
              "    animation:\n",
              "      spin 1s steps(1) infinite;\n",
              "  }\n",
              "\n",
              "  @keyframes spin {\n",
              "    0% {\n",
              "      border-color: transparent;\n",
              "      border-bottom-color: var(--fill-color);\n",
              "      border-left-color: var(--fill-color);\n",
              "    }\n",
              "    20% {\n",
              "      border-color: transparent;\n",
              "      border-left-color: var(--fill-color);\n",
              "      border-top-color: var(--fill-color);\n",
              "    }\n",
              "    30% {\n",
              "      border-color: transparent;\n",
              "      border-left-color: var(--fill-color);\n",
              "      border-top-color: var(--fill-color);\n",
              "      border-right-color: var(--fill-color);\n",
              "    }\n",
              "    40% {\n",
              "      border-color: transparent;\n",
              "      border-right-color: var(--fill-color);\n",
              "      border-top-color: var(--fill-color);\n",
              "    }\n",
              "    60% {\n",
              "      border-color: transparent;\n",
              "      border-right-color: var(--fill-color);\n",
              "    }\n",
              "    80% {\n",
              "      border-color: transparent;\n",
              "      border-right-color: var(--fill-color);\n",
              "      border-bottom-color: var(--fill-color);\n",
              "    }\n",
              "    90% {\n",
              "      border-color: transparent;\n",
              "      border-bottom-color: var(--fill-color);\n",
              "    }\n",
              "  }\n",
              "</style>\n",
              "\n",
              "      <script>\n",
              "        async function quickchart(key) {\n",
              "          const quickchartButtonEl =\n",
              "            document.querySelector('#' + key + ' button');\n",
              "          quickchartButtonEl.disabled = true;  // To prevent multiple clicks.\n",
              "          quickchartButtonEl.classList.add('colab-df-spinner');\n",
              "          try {\n",
              "            const charts = await google.colab.kernel.invokeFunction(\n",
              "                'suggestCharts', [key], {});\n",
              "          } catch (error) {\n",
              "            console.error('Error during call to suggestCharts:', error);\n",
              "          }\n",
              "          quickchartButtonEl.classList.remove('colab-df-spinner');\n",
              "          quickchartButtonEl.classList.add('colab-df-quickchart-complete');\n",
              "        }\n",
              "        (() => {\n",
              "          let quickchartButtonEl =\n",
              "            document.querySelector('#df-c8a96d35-bf40-45bf-a05d-ed5b8ec4e869 button');\n",
              "          quickchartButtonEl.style.display =\n",
              "            google.colab.kernel.accessAllowed ? 'block' : 'none';\n",
              "        })();\n",
              "      </script>\n",
              "    </div>\n",
              "\n",
              "    </div>\n",
              "  </div>\n"
            ],
            "application/vnd.google.colaboratory.intrinsic+json": {
              "type": "dataframe"
            }
          },
          "metadata": {},
          "execution_count": 35
        }
      ]
    },
    {
      "cell_type": "markdown",
      "source": [
        "Gracias a la normalización, se puede apreciar todas las columnas que esta relacionadas con los clientes, de forma más comprensible. Ahora se mostrara una descripcion del DataFrame con *datos_nomalizados.info()*."
      ],
      "metadata": {
        "id": "jV3ZadSqdysJ"
      }
    },
    {
      "cell_type": "code",
      "source": [
        "datos_nomalizados.info()# como son los datos en el DataFrame"
      ],
      "metadata": {
        "id": "bsm-WTLjmHvt",
        "colab": {
          "base_uri": "https://localhost:8080/"
        },
        "outputId": "d1cd73df-bee6-4975-eccb-e7fbec860002"
      },
      "execution_count": 36,
      "outputs": [
        {
          "output_type": "stream",
          "name": "stdout",
          "text": [
            "<class 'pandas.core.frame.DataFrame'>\n",
            "RangeIndex: 7267 entries, 0 to 7266\n",
            "Data columns (total 21 columns):\n",
            " #   Column                     Non-Null Count  Dtype  \n",
            "---  ------                     --------------  -----  \n",
            " 0   customerID                 7267 non-null   object \n",
            " 1   Churn                      7267 non-null   object \n",
            " 2   customer.gender            7267 non-null   object \n",
            " 3   customer.SeniorCitizen     7267 non-null   int64  \n",
            " 4   customer.Partner           7267 non-null   object \n",
            " 5   customer.Dependents        7267 non-null   object \n",
            " 6   customer.tenure            7267 non-null   int64  \n",
            " 7   phone.PhoneService         7267 non-null   object \n",
            " 8   phone.MultipleLines        7267 non-null   object \n",
            " 9   internet.InternetService   7267 non-null   object \n",
            " 10  internet.OnlineSecurity    7267 non-null   object \n",
            " 11  internet.OnlineBackup      7267 non-null   object \n",
            " 12  internet.DeviceProtection  7267 non-null   object \n",
            " 13  internet.TechSupport       7267 non-null   object \n",
            " 14  internet.StreamingTV       7267 non-null   object \n",
            " 15  internet.StreamingMovies   7267 non-null   object \n",
            " 16  account.Contract           7267 non-null   object \n",
            " 17  account.PaperlessBilling   7267 non-null   object \n",
            " 18  account.PaymentMethod      7267 non-null   object \n",
            " 19  account.Charges.Monthly    7267 non-null   float64\n",
            " 20  account.Charges.Total      7267 non-null   object \n",
            "dtypes: float64(1), int64(2), object(18)\n",
            "memory usage: 1.2+ MB\n"
          ]
        }
      ]
    },
    {
      "cell_type": "markdown",
      "source": [
        "### Limpieza de datos"
      ],
      "metadata": {
        "id": "JMWK8gv5ECoB"
      }
    },
    {
      "cell_type": "markdown",
      "source": [
        "Se observa que **account.Charges.Total** esta en otro formato, asi que lo debemos cambiar el tipo de dato a float."
      ],
      "metadata": {
        "id": "pa-ejLfehnir"
      }
    },
    {
      "cell_type": "code",
      "source": [
        "# Corrige espacios en blanco y convierte a float, reemplazando errores con NaN\n",
        "datos_nomalizados['account.Charges.Total'] = pd.to_numeric(\n",
        "    datos_nomalizados['account.Charges.Total'], errors='coerce'\n",
        ")"
      ],
      "metadata": {
        "id": "to6dfzQpiBaI"
      },
      "execution_count": 37,
      "outputs": []
    },
    {
      "cell_type": "code",
      "source": [
        "datos_nomalizados.info()\n"
      ],
      "metadata": {
        "colab": {
          "base_uri": "https://localhost:8080/"
        },
        "id": "7jlX0ZND-Hgh",
        "outputId": "c5fc83c9-b50a-449f-f188-23a356e0502d"
      },
      "execution_count": 38,
      "outputs": [
        {
          "output_type": "stream",
          "name": "stdout",
          "text": [
            "<class 'pandas.core.frame.DataFrame'>\n",
            "RangeIndex: 7267 entries, 0 to 7266\n",
            "Data columns (total 21 columns):\n",
            " #   Column                     Non-Null Count  Dtype  \n",
            "---  ------                     --------------  -----  \n",
            " 0   customerID                 7267 non-null   object \n",
            " 1   Churn                      7267 non-null   object \n",
            " 2   customer.gender            7267 non-null   object \n",
            " 3   customer.SeniorCitizen     7267 non-null   int64  \n",
            " 4   customer.Partner           7267 non-null   object \n",
            " 5   customer.Dependents        7267 non-null   object \n",
            " 6   customer.tenure            7267 non-null   int64  \n",
            " 7   phone.PhoneService         7267 non-null   object \n",
            " 8   phone.MultipleLines        7267 non-null   object \n",
            " 9   internet.InternetService   7267 non-null   object \n",
            " 10  internet.OnlineSecurity    7267 non-null   object \n",
            " 11  internet.OnlineBackup      7267 non-null   object \n",
            " 12  internet.DeviceProtection  7267 non-null   object \n",
            " 13  internet.TechSupport       7267 non-null   object \n",
            " 14  internet.StreamingTV       7267 non-null   object \n",
            " 15  internet.StreamingMovies   7267 non-null   object \n",
            " 16  account.Contract           7267 non-null   object \n",
            " 17  account.PaperlessBilling   7267 non-null   object \n",
            " 18  account.PaymentMethod      7267 non-null   object \n",
            " 19  account.Charges.Monthly    7267 non-null   float64\n",
            " 20  account.Charges.Total      7256 non-null   float64\n",
            "dtypes: float64(2), int64(2), object(17)\n",
            "memory usage: 1.2+ MB\n"
          ]
        }
      ]
    },
    {
      "cell_type": "markdown",
      "source": [
        "Antes de proseguir se debe verificar si hay valores nulos dentro de los datos.O caracteres que no debirian de estar."
      ],
      "metadata": {
        "id": "OBa277VsBYKs"
      }
    },
    {
      "cell_type": "code",
      "source": [
        "datos_nomalizados['account.Charges.Total'].isnull().sum()"
      ],
      "metadata": {
        "colab": {
          "base_uri": "https://localhost:8080/"
        },
        "id": "pZvfhixeBd9D",
        "outputId": "23b0ac82-0988-4b9c-9d84-0649b4a7c22d"
      },
      "execution_count": 39,
      "outputs": [
        {
          "output_type": "execute_result",
          "data": {
            "text/plain": [
              "np.int64(11)"
            ]
          },
          "metadata": {},
          "execution_count": 39
        }
      ]
    },
    {
      "cell_type": "code",
      "source": [
        "for datos in datos_nomalizados.columns:\n",
        "    print(datos, datos_nomalizados[datos].isnull().sum())\n",
        "print(datos_nomalizados.shape)"
      ],
      "metadata": {
        "colab": {
          "base_uri": "https://localhost:8080/"
        },
        "id": "CBrMHG3ADKd-",
        "outputId": "62770557-9c8a-40dd-fa3b-1590f2553148"
      },
      "execution_count": 40,
      "outputs": [
        {
          "output_type": "stream",
          "name": "stdout",
          "text": [
            "customerID 0\n",
            "Churn 0\n",
            "customer.gender 0\n",
            "customer.SeniorCitizen 0\n",
            "customer.Partner 0\n",
            "customer.Dependents 0\n",
            "customer.tenure 0\n",
            "phone.PhoneService 0\n",
            "phone.MultipleLines 0\n",
            "internet.InternetService 0\n",
            "internet.OnlineSecurity 0\n",
            "internet.OnlineBackup 0\n",
            "internet.DeviceProtection 0\n",
            "internet.TechSupport 0\n",
            "internet.StreamingTV 0\n",
            "internet.StreamingMovies 0\n",
            "account.Contract 0\n",
            "account.PaperlessBilling 0\n",
            "account.PaymentMethod 0\n",
            "account.Charges.Monthly 0\n",
            "account.Charges.Total 11\n",
            "(7267, 21)\n"
          ]
        }
      ]
    },
    {
      "cell_type": "code",
      "source": [
        "for columna in datos_nomalizados.columns:\n",
        "    print(f\"\\n🔹 Columna: {columna}\")\n",
        "    print(f\"   🔸 Cantidad de valores únicos: {datos_nomalizados[columna].nunique()}\")\n",
        "    print(f\"   🔸 Valores únicos: {datos_nomalizados[columna].unique()[:10]}\")\n",
        "    #if datos_nomalizados[columna].nunique() > 10:\n",
        "    #    print(\"   ⚠️  (Mostrando solo los 10 primeros)\")\n"
      ],
      "metadata": {
        "colab": {
          "base_uri": "https://localhost:8080/"
        },
        "id": "QTRQLXpxDofL",
        "outputId": "999a3e44-2b16-4620-db5f-b50a23974723"
      },
      "execution_count": 41,
      "outputs": [
        {
          "output_type": "stream",
          "name": "stdout",
          "text": [
            "\n",
            "🔹 Columna: customerID\n",
            "   🔸 Cantidad de valores únicos: 7267\n",
            "   🔸 Valores únicos: ['0002-ORFBO' '0003-MKNFE' '0004-TLHLJ' '0011-IGKFF' '0013-EXCHZ'\n",
            " '0013-MHZWF' '0013-SMEOE' '0014-BMAQU' '0015-UOCOJ' '0016-QLJIS']\n",
            "\n",
            "🔹 Columna: Churn\n",
            "   🔸 Cantidad de valores únicos: 3\n",
            "   🔸 Valores únicos: ['No' 'Yes' '']\n",
            "\n",
            "🔹 Columna: customer.gender\n",
            "   🔸 Cantidad de valores únicos: 2\n",
            "   🔸 Valores únicos: ['Female' 'Male']\n",
            "\n",
            "🔹 Columna: customer.SeniorCitizen\n",
            "   🔸 Cantidad de valores únicos: 2\n",
            "   🔸 Valores únicos: [0 1]\n",
            "\n",
            "🔹 Columna: customer.Partner\n",
            "   🔸 Cantidad de valores únicos: 2\n",
            "   🔸 Valores únicos: ['Yes' 'No']\n",
            "\n",
            "🔹 Columna: customer.Dependents\n",
            "   🔸 Cantidad de valores únicos: 2\n",
            "   🔸 Valores únicos: ['Yes' 'No']\n",
            "\n",
            "🔹 Columna: customer.tenure\n",
            "   🔸 Cantidad de valores únicos: 73\n",
            "   🔸 Valores únicos: [ 9  4 13  3 71 63  7 65 54 72]\n",
            "\n",
            "🔹 Columna: phone.PhoneService\n",
            "   🔸 Cantidad de valores únicos: 2\n",
            "   🔸 Valores únicos: ['Yes' 'No']\n",
            "\n",
            "🔹 Columna: phone.MultipleLines\n",
            "   🔸 Cantidad de valores únicos: 3\n",
            "   🔸 Valores únicos: ['No' 'Yes' 'No phone service']\n",
            "\n",
            "🔹 Columna: internet.InternetService\n",
            "   🔸 Cantidad de valores únicos: 3\n",
            "   🔸 Valores únicos: ['DSL' 'Fiber optic' 'No']\n",
            "\n",
            "🔹 Columna: internet.OnlineSecurity\n",
            "   🔸 Cantidad de valores únicos: 3\n",
            "   🔸 Valores únicos: ['No' 'Yes' 'No internet service']\n",
            "\n",
            "🔹 Columna: internet.OnlineBackup\n",
            "   🔸 Cantidad de valores únicos: 3\n",
            "   🔸 Valores únicos: ['Yes' 'No' 'No internet service']\n",
            "\n",
            "🔹 Columna: internet.DeviceProtection\n",
            "   🔸 Cantidad de valores únicos: 3\n",
            "   🔸 Valores únicos: ['No' 'Yes' 'No internet service']\n",
            "\n",
            "🔹 Columna: internet.TechSupport\n",
            "   🔸 Cantidad de valores únicos: 3\n",
            "   🔸 Valores únicos: ['Yes' 'No' 'No internet service']\n",
            "\n",
            "🔹 Columna: internet.StreamingTV\n",
            "   🔸 Cantidad de valores únicos: 3\n",
            "   🔸 Valores únicos: ['Yes' 'No' 'No internet service']\n",
            "\n",
            "🔹 Columna: internet.StreamingMovies\n",
            "   🔸 Cantidad de valores únicos: 3\n",
            "   🔸 Valores únicos: ['No' 'Yes' 'No internet service']\n",
            "\n",
            "🔹 Columna: account.Contract\n",
            "   🔸 Cantidad de valores únicos: 3\n",
            "   🔸 Valores únicos: ['One year' 'Month-to-month' 'Two year']\n",
            "\n",
            "🔹 Columna: account.PaperlessBilling\n",
            "   🔸 Cantidad de valores únicos: 2\n",
            "   🔸 Valores únicos: ['Yes' 'No']\n",
            "\n",
            "🔹 Columna: account.PaymentMethod\n",
            "   🔸 Cantidad de valores únicos: 4\n",
            "   🔸 Valores únicos: ['Mailed check' 'Electronic check' 'Credit card (automatic)'\n",
            " 'Bank transfer (automatic)']\n",
            "\n",
            "🔹 Columna: account.Charges.Monthly\n",
            "   🔸 Cantidad de valores únicos: 1585\n",
            "   🔸 Valores únicos: [ 65.6   59.9   73.9   98.    83.9   69.4  109.7   84.65  48.2   90.45]\n",
            "\n",
            "🔹 Columna: account.Charges.Total\n",
            "   🔸 Cantidad de valores únicos: 6530\n",
            "   🔸 Valores únicos: [ 593.3   542.4   280.85 1237.85  267.4   571.45 7904.25 5377.8   340.35\n",
            " 5957.9 ]\n"
          ]
        }
      ]
    },
    {
      "cell_type": "markdown",
      "source": [
        "Como se puede apreciar, siguiendo el orden de las columnas del dataFrame, la segunda corresponde a 'churn', que son los datos de las personas que ya no estan en la empresa, y resulta que hay otra opcion que es un espacio vacio, que es distinto de null. Ademas de la columna 'account.Charges.Total', que tiene valores nulos."
      ],
      "metadata": {
        "id": "RyXNJPvAEm9o"
      }
    },
    {
      "cell_type": "code",
      "source": [
        "datos_nomalizados[datos_nomalizados['Churn'] == ''].shape"
      ],
      "metadata": {
        "colab": {
          "base_uri": "https://localhost:8080/"
        },
        "id": "xfKjy0OfHsM1",
        "outputId": "c13cc6de-9fc2-4072-81f8-0d63948fad2e"
      },
      "execution_count": 42,
      "outputs": [
        {
          "output_type": "execute_result",
          "data": {
            "text/plain": [
              "(224, 21)"
            ]
          },
          "metadata": {},
          "execution_count": 42
        }
      ]
    },
    {
      "cell_type": "code",
      "source": [
        "datos_nomalizados[datos_nomalizados['Churn'] == ''].sample(3) # ejemplo de 3 datos que contienen valora '' en churn"
      ],
      "metadata": {
        "colab": {
          "base_uri": "https://localhost:8080/",
          "height": 227
        },
        "id": "qVqGAEKRFdbr",
        "outputId": "a754daec-d2d3-4ddd-a3aa-3146751fffc7"
      },
      "execution_count": 43,
      "outputs": [
        {
          "output_type": "execute_result",
          "data": {
            "text/plain": [
              "      customerID Churn customer.gender  customer.SeniorCitizen  \\\n",
              "4327  5943-PWAPA                Female                       0   \n",
              "6291  8649-VYTUC                  Male                       0   \n",
              "6501  8937-FVBIE                  Male                       0   \n",
              "\n",
              "     customer.Partner customer.Dependents  customer.tenure phone.PhoneService  \\\n",
              "4327              Yes                  No               53                Yes   \n",
              "6291               No                  No               24                Yes   \n",
              "6501              Yes                  No               67                Yes   \n",
              "\n",
              "     phone.MultipleLines internet.InternetService  ... internet.OnlineBackup  \\\n",
              "4327                  No              Fiber optic  ...                    No   \n",
              "6291                  No              Fiber optic  ...                    No   \n",
              "6501                  No              Fiber optic  ...                   Yes   \n",
              "\n",
              "     internet.DeviceProtection internet.TechSupport internet.StreamingTV  \\\n",
              "4327                        No                  Yes                  Yes   \n",
              "6291                        No                   No                  Yes   \n",
              "6501                        No                   No                   No   \n",
              "\n",
              "     internet.StreamingMovies account.Contract account.PaperlessBilling  \\\n",
              "4327                      Yes         One year                      Yes   \n",
              "6291                      Yes   Month-to-month                      Yes   \n",
              "6501                      Yes         One year                      Yes   \n",
              "\n",
              "        account.PaymentMethod account.Charges.Monthly  account.Charges.Total  \n",
              "4327         Electronic check                   93.45                4872.20  \n",
              "6291         Electronic check                   90.35                2238.50  \n",
              "6501  Credit card (automatic)                   90.60                6056.15  \n",
              "\n",
              "[3 rows x 21 columns]"
            ],
            "text/html": [
              "\n",
              "  <div id=\"df-b7ec21c6-dad9-4fe4-aa99-7bfb69703e93\" class=\"colab-df-container\">\n",
              "    <div>\n",
              "<style scoped>\n",
              "    .dataframe tbody tr th:only-of-type {\n",
              "        vertical-align: middle;\n",
              "    }\n",
              "\n",
              "    .dataframe tbody tr th {\n",
              "        vertical-align: top;\n",
              "    }\n",
              "\n",
              "    .dataframe thead th {\n",
              "        text-align: right;\n",
              "    }\n",
              "</style>\n",
              "<table border=\"1\" class=\"dataframe\">\n",
              "  <thead>\n",
              "    <tr style=\"text-align: right;\">\n",
              "      <th></th>\n",
              "      <th>customerID</th>\n",
              "      <th>Churn</th>\n",
              "      <th>customer.gender</th>\n",
              "      <th>customer.SeniorCitizen</th>\n",
              "      <th>customer.Partner</th>\n",
              "      <th>customer.Dependents</th>\n",
              "      <th>customer.tenure</th>\n",
              "      <th>phone.PhoneService</th>\n",
              "      <th>phone.MultipleLines</th>\n",
              "      <th>internet.InternetService</th>\n",
              "      <th>...</th>\n",
              "      <th>internet.OnlineBackup</th>\n",
              "      <th>internet.DeviceProtection</th>\n",
              "      <th>internet.TechSupport</th>\n",
              "      <th>internet.StreamingTV</th>\n",
              "      <th>internet.StreamingMovies</th>\n",
              "      <th>account.Contract</th>\n",
              "      <th>account.PaperlessBilling</th>\n",
              "      <th>account.PaymentMethod</th>\n",
              "      <th>account.Charges.Monthly</th>\n",
              "      <th>account.Charges.Total</th>\n",
              "    </tr>\n",
              "  </thead>\n",
              "  <tbody>\n",
              "    <tr>\n",
              "      <th>4327</th>\n",
              "      <td>5943-PWAPA</td>\n",
              "      <td></td>\n",
              "      <td>Female</td>\n",
              "      <td>0</td>\n",
              "      <td>Yes</td>\n",
              "      <td>No</td>\n",
              "      <td>53</td>\n",
              "      <td>Yes</td>\n",
              "      <td>No</td>\n",
              "      <td>Fiber optic</td>\n",
              "      <td>...</td>\n",
              "      <td>No</td>\n",
              "      <td>No</td>\n",
              "      <td>Yes</td>\n",
              "      <td>Yes</td>\n",
              "      <td>Yes</td>\n",
              "      <td>One year</td>\n",
              "      <td>Yes</td>\n",
              "      <td>Electronic check</td>\n",
              "      <td>93.45</td>\n",
              "      <td>4872.20</td>\n",
              "    </tr>\n",
              "    <tr>\n",
              "      <th>6291</th>\n",
              "      <td>8649-VYTUC</td>\n",
              "      <td></td>\n",
              "      <td>Male</td>\n",
              "      <td>0</td>\n",
              "      <td>No</td>\n",
              "      <td>No</td>\n",
              "      <td>24</td>\n",
              "      <td>Yes</td>\n",
              "      <td>No</td>\n",
              "      <td>Fiber optic</td>\n",
              "      <td>...</td>\n",
              "      <td>No</td>\n",
              "      <td>No</td>\n",
              "      <td>No</td>\n",
              "      <td>Yes</td>\n",
              "      <td>Yes</td>\n",
              "      <td>Month-to-month</td>\n",
              "      <td>Yes</td>\n",
              "      <td>Electronic check</td>\n",
              "      <td>90.35</td>\n",
              "      <td>2238.50</td>\n",
              "    </tr>\n",
              "    <tr>\n",
              "      <th>6501</th>\n",
              "      <td>8937-FVBIE</td>\n",
              "      <td></td>\n",
              "      <td>Male</td>\n",
              "      <td>0</td>\n",
              "      <td>Yes</td>\n",
              "      <td>No</td>\n",
              "      <td>67</td>\n",
              "      <td>Yes</td>\n",
              "      <td>No</td>\n",
              "      <td>Fiber optic</td>\n",
              "      <td>...</td>\n",
              "      <td>Yes</td>\n",
              "      <td>No</td>\n",
              "      <td>No</td>\n",
              "      <td>No</td>\n",
              "      <td>Yes</td>\n",
              "      <td>One year</td>\n",
              "      <td>Yes</td>\n",
              "      <td>Credit card (automatic)</td>\n",
              "      <td>90.60</td>\n",
              "      <td>6056.15</td>\n",
              "    </tr>\n",
              "  </tbody>\n",
              "</table>\n",
              "<p>3 rows × 21 columns</p>\n",
              "</div>\n",
              "    <div class=\"colab-df-buttons\">\n",
              "\n",
              "  <div class=\"colab-df-container\">\n",
              "    <button class=\"colab-df-convert\" onclick=\"convertToInteractive('df-b7ec21c6-dad9-4fe4-aa99-7bfb69703e93')\"\n",
              "            title=\"Convert this dataframe to an interactive table.\"\n",
              "            style=\"display:none;\">\n",
              "\n",
              "  <svg xmlns=\"http://www.w3.org/2000/svg\" height=\"24px\" viewBox=\"0 -960 960 960\">\n",
              "    <path d=\"M120-120v-720h720v720H120Zm60-500h600v-160H180v160Zm220 220h160v-160H400v160Zm0 220h160v-160H400v160ZM180-400h160v-160H180v160Zm440 0h160v-160H620v160ZM180-180h160v-160H180v160Zm440 0h160v-160H620v160Z\"/>\n",
              "  </svg>\n",
              "    </button>\n",
              "\n",
              "  <style>\n",
              "    .colab-df-container {\n",
              "      display:flex;\n",
              "      gap: 12px;\n",
              "    }\n",
              "\n",
              "    .colab-df-convert {\n",
              "      background-color: #E8F0FE;\n",
              "      border: none;\n",
              "      border-radius: 50%;\n",
              "      cursor: pointer;\n",
              "      display: none;\n",
              "      fill: #1967D2;\n",
              "      height: 32px;\n",
              "      padding: 0 0 0 0;\n",
              "      width: 32px;\n",
              "    }\n",
              "\n",
              "    .colab-df-convert:hover {\n",
              "      background-color: #E2EBFA;\n",
              "      box-shadow: 0px 1px 2px rgba(60, 64, 67, 0.3), 0px 1px 3px 1px rgba(60, 64, 67, 0.15);\n",
              "      fill: #174EA6;\n",
              "    }\n",
              "\n",
              "    .colab-df-buttons div {\n",
              "      margin-bottom: 4px;\n",
              "    }\n",
              "\n",
              "    [theme=dark] .colab-df-convert {\n",
              "      background-color: #3B4455;\n",
              "      fill: #D2E3FC;\n",
              "    }\n",
              "\n",
              "    [theme=dark] .colab-df-convert:hover {\n",
              "      background-color: #434B5C;\n",
              "      box-shadow: 0px 1px 3px 1px rgba(0, 0, 0, 0.15);\n",
              "      filter: drop-shadow(0px 1px 2px rgba(0, 0, 0, 0.3));\n",
              "      fill: #FFFFFF;\n",
              "    }\n",
              "  </style>\n",
              "\n",
              "    <script>\n",
              "      const buttonEl =\n",
              "        document.querySelector('#df-b7ec21c6-dad9-4fe4-aa99-7bfb69703e93 button.colab-df-convert');\n",
              "      buttonEl.style.display =\n",
              "        google.colab.kernel.accessAllowed ? 'block' : 'none';\n",
              "\n",
              "      async function convertToInteractive(key) {\n",
              "        const element = document.querySelector('#df-b7ec21c6-dad9-4fe4-aa99-7bfb69703e93');\n",
              "        const dataTable =\n",
              "          await google.colab.kernel.invokeFunction('convertToInteractive',\n",
              "                                                    [key], {});\n",
              "        if (!dataTable) return;\n",
              "\n",
              "        const docLinkHtml = 'Like what you see? Visit the ' +\n",
              "          '<a target=\"_blank\" href=https://colab.research.google.com/notebooks/data_table.ipynb>data table notebook</a>'\n",
              "          + ' to learn more about interactive tables.';\n",
              "        element.innerHTML = '';\n",
              "        dataTable['output_type'] = 'display_data';\n",
              "        await google.colab.output.renderOutput(dataTable, element);\n",
              "        const docLink = document.createElement('div');\n",
              "        docLink.innerHTML = docLinkHtml;\n",
              "        element.appendChild(docLink);\n",
              "      }\n",
              "    </script>\n",
              "  </div>\n",
              "\n",
              "\n",
              "    <div id=\"df-68f8cbee-3ec7-4710-b92a-61b4cc567a85\">\n",
              "      <button class=\"colab-df-quickchart\" onclick=\"quickchart('df-68f8cbee-3ec7-4710-b92a-61b4cc567a85')\"\n",
              "                title=\"Suggest charts\"\n",
              "                style=\"display:none;\">\n",
              "\n",
              "<svg xmlns=\"http://www.w3.org/2000/svg\" height=\"24px\"viewBox=\"0 0 24 24\"\n",
              "     width=\"24px\">\n",
              "    <g>\n",
              "        <path d=\"M19 3H5c-1.1 0-2 .9-2 2v14c0 1.1.9 2 2 2h14c1.1 0 2-.9 2-2V5c0-1.1-.9-2-2-2zM9 17H7v-7h2v7zm4 0h-2V7h2v10zm4 0h-2v-4h2v4z\"/>\n",
              "    </g>\n",
              "</svg>\n",
              "      </button>\n",
              "\n",
              "<style>\n",
              "  .colab-df-quickchart {\n",
              "      --bg-color: #E8F0FE;\n",
              "      --fill-color: #1967D2;\n",
              "      --hover-bg-color: #E2EBFA;\n",
              "      --hover-fill-color: #174EA6;\n",
              "      --disabled-fill-color: #AAA;\n",
              "      --disabled-bg-color: #DDD;\n",
              "  }\n",
              "\n",
              "  [theme=dark] .colab-df-quickchart {\n",
              "      --bg-color: #3B4455;\n",
              "      --fill-color: #D2E3FC;\n",
              "      --hover-bg-color: #434B5C;\n",
              "      --hover-fill-color: #FFFFFF;\n",
              "      --disabled-bg-color: #3B4455;\n",
              "      --disabled-fill-color: #666;\n",
              "  }\n",
              "\n",
              "  .colab-df-quickchart {\n",
              "    background-color: var(--bg-color);\n",
              "    border: none;\n",
              "    border-radius: 50%;\n",
              "    cursor: pointer;\n",
              "    display: none;\n",
              "    fill: var(--fill-color);\n",
              "    height: 32px;\n",
              "    padding: 0;\n",
              "    width: 32px;\n",
              "  }\n",
              "\n",
              "  .colab-df-quickchart:hover {\n",
              "    background-color: var(--hover-bg-color);\n",
              "    box-shadow: 0 1px 2px rgba(60, 64, 67, 0.3), 0 1px 3px 1px rgba(60, 64, 67, 0.15);\n",
              "    fill: var(--button-hover-fill-color);\n",
              "  }\n",
              "\n",
              "  .colab-df-quickchart-complete:disabled,\n",
              "  .colab-df-quickchart-complete:disabled:hover {\n",
              "    background-color: var(--disabled-bg-color);\n",
              "    fill: var(--disabled-fill-color);\n",
              "    box-shadow: none;\n",
              "  }\n",
              "\n",
              "  .colab-df-spinner {\n",
              "    border: 2px solid var(--fill-color);\n",
              "    border-color: transparent;\n",
              "    border-bottom-color: var(--fill-color);\n",
              "    animation:\n",
              "      spin 1s steps(1) infinite;\n",
              "  }\n",
              "\n",
              "  @keyframes spin {\n",
              "    0% {\n",
              "      border-color: transparent;\n",
              "      border-bottom-color: var(--fill-color);\n",
              "      border-left-color: var(--fill-color);\n",
              "    }\n",
              "    20% {\n",
              "      border-color: transparent;\n",
              "      border-left-color: var(--fill-color);\n",
              "      border-top-color: var(--fill-color);\n",
              "    }\n",
              "    30% {\n",
              "      border-color: transparent;\n",
              "      border-left-color: var(--fill-color);\n",
              "      border-top-color: var(--fill-color);\n",
              "      border-right-color: var(--fill-color);\n",
              "    }\n",
              "    40% {\n",
              "      border-color: transparent;\n",
              "      border-right-color: var(--fill-color);\n",
              "      border-top-color: var(--fill-color);\n",
              "    }\n",
              "    60% {\n",
              "      border-color: transparent;\n",
              "      border-right-color: var(--fill-color);\n",
              "    }\n",
              "    80% {\n",
              "      border-color: transparent;\n",
              "      border-right-color: var(--fill-color);\n",
              "      border-bottom-color: var(--fill-color);\n",
              "    }\n",
              "    90% {\n",
              "      border-color: transparent;\n",
              "      border-bottom-color: var(--fill-color);\n",
              "    }\n",
              "  }\n",
              "</style>\n",
              "\n",
              "      <script>\n",
              "        async function quickchart(key) {\n",
              "          const quickchartButtonEl =\n",
              "            document.querySelector('#' + key + ' button');\n",
              "          quickchartButtonEl.disabled = true;  // To prevent multiple clicks.\n",
              "          quickchartButtonEl.classList.add('colab-df-spinner');\n",
              "          try {\n",
              "            const charts = await google.colab.kernel.invokeFunction(\n",
              "                'suggestCharts', [key], {});\n",
              "          } catch (error) {\n",
              "            console.error('Error during call to suggestCharts:', error);\n",
              "          }\n",
              "          quickchartButtonEl.classList.remove('colab-df-spinner');\n",
              "          quickchartButtonEl.classList.add('colab-df-quickchart-complete');\n",
              "        }\n",
              "        (() => {\n",
              "          let quickchartButtonEl =\n",
              "            document.querySelector('#df-68f8cbee-3ec7-4710-b92a-61b4cc567a85 button');\n",
              "          quickchartButtonEl.style.display =\n",
              "            google.colab.kernel.accessAllowed ? 'block' : 'none';\n",
              "        })();\n",
              "      </script>\n",
              "    </div>\n",
              "\n",
              "    </div>\n",
              "  </div>\n"
            ],
            "application/vnd.google.colaboratory.intrinsic+json": {
              "type": "dataframe"
            }
          },
          "metadata": {},
          "execution_count": 43
        }
      ]
    },
    {
      "cell_type": "code",
      "source": [
        "datos_nomalizados[datos_nomalizados['account.Charges.Total'].isnull()].index # Indice de los datos que tiene valor nulo"
      ],
      "metadata": {
        "colab": {
          "base_uri": "https://localhost:8080/"
        },
        "id": "RwXaiyrMGbut",
        "outputId": "1618c985-20a2-4d04-9573-899f8b5bdf7b"
      },
      "execution_count": 44,
      "outputs": [
        {
          "output_type": "execute_result",
          "data": {
            "text/plain": [
              "Index([975, 1775, 1955, 2075, 2232, 2308, 2930, 3134, 3203, 4169, 5599], dtype='int64')"
            ]
          },
          "metadata": {},
          "execution_count": 44
        }
      ]
    },
    {
      "cell_type": "code",
      "source": [
        "datos_nomalizados = datos_nomalizados[datos_nomalizados['Churn'] != ''] # dejame solo los datos que sean distinto de ''"
      ],
      "metadata": {
        "id": "sVg5ycdHHEvK"
      },
      "execution_count": 45,
      "outputs": []
    },
    {
      "cell_type": "code",
      "source": [
        "datos_nomalizados[datos_nomalizados['Churn'] == ''].shape"
      ],
      "metadata": {
        "colab": {
          "base_uri": "https://localhost:8080/"
        },
        "id": "xN0T4zR_Ige4",
        "outputId": "3a122328-1d7b-41b5-c160-98dd0ca39b46"
      },
      "execution_count": 46,
      "outputs": [
        {
          "output_type": "execute_result",
          "data": {
            "text/plain": [
              "(0, 21)"
            ]
          },
          "metadata": {},
          "execution_count": 46
        }
      ]
    },
    {
      "cell_type": "code",
      "source": [
        "datos_nomalizados.shape"
      ],
      "metadata": {
        "colab": {
          "base_uri": "https://localhost:8080/"
        },
        "id": "d5pmt01rIo3C",
        "outputId": "c7a52c55-65f4-45da-9896-1d72d1171f7f"
      },
      "execution_count": 47,
      "outputs": [
        {
          "output_type": "execute_result",
          "data": {
            "text/plain": [
              "(7043, 21)"
            ]
          },
          "metadata": {},
          "execution_count": 47
        }
      ]
    },
    {
      "cell_type": "code",
      "source": [
        "datos_nomalizados['account.Charges.Total']=datos_nomalizados['account.Charges.Total'].fillna(0) # cambio los valores nulos por 0"
      ],
      "metadata": {
        "id": "Mhn7YOSnIxfx"
      },
      "execution_count": 48,
      "outputs": []
    },
    {
      "cell_type": "code",
      "source": [
        "datos_nomalizados['account.Charges.Total'].isnull().sum()"
      ],
      "metadata": {
        "colab": {
          "base_uri": "https://localhost:8080/"
        },
        "id": "kpurrV9jJMxK",
        "outputId": "9f3fe0cc-6894-4c60-8ecf-2b197304c041"
      },
      "execution_count": 49,
      "outputs": [
        {
          "output_type": "execute_result",
          "data": {
            "text/plain": [
              "np.int64(0)"
            ]
          },
          "metadata": {},
          "execution_count": 49
        }
      ]
    },
    {
      "cell_type": "code",
      "source": [
        "datos_corregidos = datos_nomalizados"
      ],
      "metadata": {
        "id": "JfsEQsAgJS3e"
      },
      "execution_count": 50,
      "outputs": []
    },
    {
      "cell_type": "markdown",
      "source": [
        "### Columna de cuentas diarias"
      ],
      "metadata": {
        "id": "B9mGaCV1jzGL"
      }
    },
    {
      "cell_type": "markdown",
      "source": [
        "Utiliza la facturación mensual para calcular el valor diario, proporcionando una visión más detallada del comportamiento de los clientes a lo largo del tiempo."
      ],
      "metadata": {
        "id": "Bd3dYxgMj2So"
      }
    },
    {
      "cell_type": "code",
      "source": [
        "# Crear la columna 'Cuentas_Diarias' a partir de la facturación mensual\n",
        "datos_nomalizados['Cuentas_Diarias'] = datos_nomalizados['account.Charges.Monthly'] / 30\n"
      ],
      "metadata": {
        "id": "MZZmXaSwj882"
      },
      "execution_count": 51,
      "outputs": []
    },
    {
      "cell_type": "code",
      "source": [
        "datos_nomalizados[['account.Charges.Monthly', 'Cuentas_Diarias']].sample(5)"
      ],
      "metadata": {
        "id": "XVT3D_nBj_2F",
        "outputId": "5d5fda84-b537-48e5-a72f-01de4dd6d221",
        "colab": {
          "base_uri": "https://localhost:8080/",
          "height": 206
        }
      },
      "execution_count": 52,
      "outputs": [
        {
          "output_type": "execute_result",
          "data": {
            "text/plain": [
              "      account.Charges.Monthly  Cuentas_Diarias\n",
              "6035                    26.45         0.881667\n",
              "6997                    70.25         2.341667\n",
              "1926                   105.65         3.521667\n",
              "6543                    50.35         1.678333\n",
              "2477                    20.00         0.666667"
            ],
            "text/html": [
              "\n",
              "  <div id=\"df-dc67502c-4369-434f-963d-dec9eed47e8a\" class=\"colab-df-container\">\n",
              "    <div>\n",
              "<style scoped>\n",
              "    .dataframe tbody tr th:only-of-type {\n",
              "        vertical-align: middle;\n",
              "    }\n",
              "\n",
              "    .dataframe tbody tr th {\n",
              "        vertical-align: top;\n",
              "    }\n",
              "\n",
              "    .dataframe thead th {\n",
              "        text-align: right;\n",
              "    }\n",
              "</style>\n",
              "<table border=\"1\" class=\"dataframe\">\n",
              "  <thead>\n",
              "    <tr style=\"text-align: right;\">\n",
              "      <th></th>\n",
              "      <th>account.Charges.Monthly</th>\n",
              "      <th>Cuentas_Diarias</th>\n",
              "    </tr>\n",
              "  </thead>\n",
              "  <tbody>\n",
              "    <tr>\n",
              "      <th>6035</th>\n",
              "      <td>26.45</td>\n",
              "      <td>0.881667</td>\n",
              "    </tr>\n",
              "    <tr>\n",
              "      <th>6997</th>\n",
              "      <td>70.25</td>\n",
              "      <td>2.341667</td>\n",
              "    </tr>\n",
              "    <tr>\n",
              "      <th>1926</th>\n",
              "      <td>105.65</td>\n",
              "      <td>3.521667</td>\n",
              "    </tr>\n",
              "    <tr>\n",
              "      <th>6543</th>\n",
              "      <td>50.35</td>\n",
              "      <td>1.678333</td>\n",
              "    </tr>\n",
              "    <tr>\n",
              "      <th>2477</th>\n",
              "      <td>20.00</td>\n",
              "      <td>0.666667</td>\n",
              "    </tr>\n",
              "  </tbody>\n",
              "</table>\n",
              "</div>\n",
              "    <div class=\"colab-df-buttons\">\n",
              "\n",
              "  <div class=\"colab-df-container\">\n",
              "    <button class=\"colab-df-convert\" onclick=\"convertToInteractive('df-dc67502c-4369-434f-963d-dec9eed47e8a')\"\n",
              "            title=\"Convert this dataframe to an interactive table.\"\n",
              "            style=\"display:none;\">\n",
              "\n",
              "  <svg xmlns=\"http://www.w3.org/2000/svg\" height=\"24px\" viewBox=\"0 -960 960 960\">\n",
              "    <path d=\"M120-120v-720h720v720H120Zm60-500h600v-160H180v160Zm220 220h160v-160H400v160Zm0 220h160v-160H400v160ZM180-400h160v-160H180v160Zm440 0h160v-160H620v160ZM180-180h160v-160H180v160Zm440 0h160v-160H620v160Z\"/>\n",
              "  </svg>\n",
              "    </button>\n",
              "\n",
              "  <style>\n",
              "    .colab-df-container {\n",
              "      display:flex;\n",
              "      gap: 12px;\n",
              "    }\n",
              "\n",
              "    .colab-df-convert {\n",
              "      background-color: #E8F0FE;\n",
              "      border: none;\n",
              "      border-radius: 50%;\n",
              "      cursor: pointer;\n",
              "      display: none;\n",
              "      fill: #1967D2;\n",
              "      height: 32px;\n",
              "      padding: 0 0 0 0;\n",
              "      width: 32px;\n",
              "    }\n",
              "\n",
              "    .colab-df-convert:hover {\n",
              "      background-color: #E2EBFA;\n",
              "      box-shadow: 0px 1px 2px rgba(60, 64, 67, 0.3), 0px 1px 3px 1px rgba(60, 64, 67, 0.15);\n",
              "      fill: #174EA6;\n",
              "    }\n",
              "\n",
              "    .colab-df-buttons div {\n",
              "      margin-bottom: 4px;\n",
              "    }\n",
              "\n",
              "    [theme=dark] .colab-df-convert {\n",
              "      background-color: #3B4455;\n",
              "      fill: #D2E3FC;\n",
              "    }\n",
              "\n",
              "    [theme=dark] .colab-df-convert:hover {\n",
              "      background-color: #434B5C;\n",
              "      box-shadow: 0px 1px 3px 1px rgba(0, 0, 0, 0.15);\n",
              "      filter: drop-shadow(0px 1px 2px rgba(0, 0, 0, 0.3));\n",
              "      fill: #FFFFFF;\n",
              "    }\n",
              "  </style>\n",
              "\n",
              "    <script>\n",
              "      const buttonEl =\n",
              "        document.querySelector('#df-dc67502c-4369-434f-963d-dec9eed47e8a button.colab-df-convert');\n",
              "      buttonEl.style.display =\n",
              "        google.colab.kernel.accessAllowed ? 'block' : 'none';\n",
              "\n",
              "      async function convertToInteractive(key) {\n",
              "        const element = document.querySelector('#df-dc67502c-4369-434f-963d-dec9eed47e8a');\n",
              "        const dataTable =\n",
              "          await google.colab.kernel.invokeFunction('convertToInteractive',\n",
              "                                                    [key], {});\n",
              "        if (!dataTable) return;\n",
              "\n",
              "        const docLinkHtml = 'Like what you see? Visit the ' +\n",
              "          '<a target=\"_blank\" href=https://colab.research.google.com/notebooks/data_table.ipynb>data table notebook</a>'\n",
              "          + ' to learn more about interactive tables.';\n",
              "        element.innerHTML = '';\n",
              "        dataTable['output_type'] = 'display_data';\n",
              "        await google.colab.output.renderOutput(dataTable, element);\n",
              "        const docLink = document.createElement('div');\n",
              "        docLink.innerHTML = docLinkHtml;\n",
              "        element.appendChild(docLink);\n",
              "      }\n",
              "    </script>\n",
              "  </div>\n",
              "\n",
              "\n",
              "    <div id=\"df-e814c88b-fb4b-4015-b1ec-799ea5b8240f\">\n",
              "      <button class=\"colab-df-quickchart\" onclick=\"quickchart('df-e814c88b-fb4b-4015-b1ec-799ea5b8240f')\"\n",
              "                title=\"Suggest charts\"\n",
              "                style=\"display:none;\">\n",
              "\n",
              "<svg xmlns=\"http://www.w3.org/2000/svg\" height=\"24px\"viewBox=\"0 0 24 24\"\n",
              "     width=\"24px\">\n",
              "    <g>\n",
              "        <path d=\"M19 3H5c-1.1 0-2 .9-2 2v14c0 1.1.9 2 2 2h14c1.1 0 2-.9 2-2V5c0-1.1-.9-2-2-2zM9 17H7v-7h2v7zm4 0h-2V7h2v10zm4 0h-2v-4h2v4z\"/>\n",
              "    </g>\n",
              "</svg>\n",
              "      </button>\n",
              "\n",
              "<style>\n",
              "  .colab-df-quickchart {\n",
              "      --bg-color: #E8F0FE;\n",
              "      --fill-color: #1967D2;\n",
              "      --hover-bg-color: #E2EBFA;\n",
              "      --hover-fill-color: #174EA6;\n",
              "      --disabled-fill-color: #AAA;\n",
              "      --disabled-bg-color: #DDD;\n",
              "  }\n",
              "\n",
              "  [theme=dark] .colab-df-quickchart {\n",
              "      --bg-color: #3B4455;\n",
              "      --fill-color: #D2E3FC;\n",
              "      --hover-bg-color: #434B5C;\n",
              "      --hover-fill-color: #FFFFFF;\n",
              "      --disabled-bg-color: #3B4455;\n",
              "      --disabled-fill-color: #666;\n",
              "  }\n",
              "\n",
              "  .colab-df-quickchart {\n",
              "    background-color: var(--bg-color);\n",
              "    border: none;\n",
              "    border-radius: 50%;\n",
              "    cursor: pointer;\n",
              "    display: none;\n",
              "    fill: var(--fill-color);\n",
              "    height: 32px;\n",
              "    padding: 0;\n",
              "    width: 32px;\n",
              "  }\n",
              "\n",
              "  .colab-df-quickchart:hover {\n",
              "    background-color: var(--hover-bg-color);\n",
              "    box-shadow: 0 1px 2px rgba(60, 64, 67, 0.3), 0 1px 3px 1px rgba(60, 64, 67, 0.15);\n",
              "    fill: var(--button-hover-fill-color);\n",
              "  }\n",
              "\n",
              "  .colab-df-quickchart-complete:disabled,\n",
              "  .colab-df-quickchart-complete:disabled:hover {\n",
              "    background-color: var(--disabled-bg-color);\n",
              "    fill: var(--disabled-fill-color);\n",
              "    box-shadow: none;\n",
              "  }\n",
              "\n",
              "  .colab-df-spinner {\n",
              "    border: 2px solid var(--fill-color);\n",
              "    border-color: transparent;\n",
              "    border-bottom-color: var(--fill-color);\n",
              "    animation:\n",
              "      spin 1s steps(1) infinite;\n",
              "  }\n",
              "\n",
              "  @keyframes spin {\n",
              "    0% {\n",
              "      border-color: transparent;\n",
              "      border-bottom-color: var(--fill-color);\n",
              "      border-left-color: var(--fill-color);\n",
              "    }\n",
              "    20% {\n",
              "      border-color: transparent;\n",
              "      border-left-color: var(--fill-color);\n",
              "      border-top-color: var(--fill-color);\n",
              "    }\n",
              "    30% {\n",
              "      border-color: transparent;\n",
              "      border-left-color: var(--fill-color);\n",
              "      border-top-color: var(--fill-color);\n",
              "      border-right-color: var(--fill-color);\n",
              "    }\n",
              "    40% {\n",
              "      border-color: transparent;\n",
              "      border-right-color: var(--fill-color);\n",
              "      border-top-color: var(--fill-color);\n",
              "    }\n",
              "    60% {\n",
              "      border-color: transparent;\n",
              "      border-right-color: var(--fill-color);\n",
              "    }\n",
              "    80% {\n",
              "      border-color: transparent;\n",
              "      border-right-color: var(--fill-color);\n",
              "      border-bottom-color: var(--fill-color);\n",
              "    }\n",
              "    90% {\n",
              "      border-color: transparent;\n",
              "      border-bottom-color: var(--fill-color);\n",
              "    }\n",
              "  }\n",
              "</style>\n",
              "\n",
              "      <script>\n",
              "        async function quickchart(key) {\n",
              "          const quickchartButtonEl =\n",
              "            document.querySelector('#' + key + ' button');\n",
              "          quickchartButtonEl.disabled = true;  // To prevent multiple clicks.\n",
              "          quickchartButtonEl.classList.add('colab-df-spinner');\n",
              "          try {\n",
              "            const charts = await google.colab.kernel.invokeFunction(\n",
              "                'suggestCharts', [key], {});\n",
              "          } catch (error) {\n",
              "            console.error('Error during call to suggestCharts:', error);\n",
              "          }\n",
              "          quickchartButtonEl.classList.remove('colab-df-spinner');\n",
              "          quickchartButtonEl.classList.add('colab-df-quickchart-complete');\n",
              "        }\n",
              "        (() => {\n",
              "          let quickchartButtonEl =\n",
              "            document.querySelector('#df-e814c88b-fb4b-4015-b1ec-799ea5b8240f button');\n",
              "          quickchartButtonEl.style.display =\n",
              "            google.colab.kernel.accessAllowed ? 'block' : 'none';\n",
              "        })();\n",
              "      </script>\n",
              "    </div>\n",
              "\n",
              "    </div>\n",
              "  </div>\n"
            ],
            "application/vnd.google.colaboratory.intrinsic+json": {
              "type": "dataframe",
              "summary": "{\n  \"name\": \"datos_nomalizados[['account\",\n  \"rows\": 5,\n  \"fields\": [\n    {\n      \"column\": \"account.Charges.Monthly\",\n      \"properties\": {\n        \"dtype\": \"number\",\n        \"std\": 34.852015723627815,\n        \"min\": 20.0,\n        \"max\": 105.65,\n        \"num_unique_values\": 5,\n        \"samples\": [\n          70.25,\n          20.0,\n          105.65\n        ],\n        \"semantic_type\": \"\",\n        \"description\": \"\"\n      }\n    },\n    {\n      \"column\": \"Cuentas_Diarias\",\n      \"properties\": {\n        \"dtype\": \"number\",\n        \"std\": 1.1617338574542604,\n        \"min\": 0.6666666666666666,\n        \"max\": 3.521666666666667,\n        \"num_unique_values\": 5,\n        \"samples\": [\n          2.341666666666667,\n          0.6666666666666666,\n          3.521666666666667\n        ],\n        \"semantic_type\": \"\",\n        \"description\": \"\"\n      }\n    }\n  ]\n}"
            }
          },
          "metadata": {},
          "execution_count": 52
        }
      ]
    },
    {
      "cell_type": "markdown",
      "source": [
        "### Estandarizacion y transfomación de datos"
      ],
      "metadata": {
        "id": "YUXxcqk_kK2A"
      }
    },
    {
      "cell_type": "markdown",
      "source": [
        "La información se estandarizara para una mayor cosistencia, comprensibilidad y adecuada para análisis. Por ejemplo se convertiran valores textuales como 'yes' y 'no' , a valores binario 0 y 1."
      ],
      "metadata": {
        "id": "P52ZUT3ukRSY"
      }
    },
    {
      "cell_type": "code",
      "source": [
        "datos_nomalizados['Churn'] = datos_nomalizados['Churn'].map({'Yes': 1, 'No': 0})\n",
        "datos_nomalizados['Churn'].sample(5)"
      ],
      "metadata": {
        "id": "zN8581fGk3t-",
        "outputId": "852b6930-25cc-4c72-ff62-7a71f2e197a6",
        "colab": {
          "base_uri": "https://localhost:8080/",
          "height": 241
        }
      },
      "execution_count": 54,
      "outputs": [
        {
          "output_type": "execute_result",
          "data": {
            "text/plain": [
              "2443   NaN\n",
              "1298   NaN\n",
              "2626   NaN\n",
              "6581   NaN\n",
              "5423   NaN\n",
              "Name: Churn, dtype: float64"
            ],
            "text/html": [
              "<div>\n",
              "<style scoped>\n",
              "    .dataframe tbody tr th:only-of-type {\n",
              "        vertical-align: middle;\n",
              "    }\n",
              "\n",
              "    .dataframe tbody tr th {\n",
              "        vertical-align: top;\n",
              "    }\n",
              "\n",
              "    .dataframe thead th {\n",
              "        text-align: right;\n",
              "    }\n",
              "</style>\n",
              "<table border=\"1\" class=\"dataframe\">\n",
              "  <thead>\n",
              "    <tr style=\"text-align: right;\">\n",
              "      <th></th>\n",
              "      <th>Churn</th>\n",
              "    </tr>\n",
              "  </thead>\n",
              "  <tbody>\n",
              "    <tr>\n",
              "      <th>2443</th>\n",
              "      <td>NaN</td>\n",
              "    </tr>\n",
              "    <tr>\n",
              "      <th>1298</th>\n",
              "      <td>NaN</td>\n",
              "    </tr>\n",
              "    <tr>\n",
              "      <th>2626</th>\n",
              "      <td>NaN</td>\n",
              "    </tr>\n",
              "    <tr>\n",
              "      <th>6581</th>\n",
              "      <td>NaN</td>\n",
              "    </tr>\n",
              "    <tr>\n",
              "      <th>5423</th>\n",
              "      <td>NaN</td>\n",
              "    </tr>\n",
              "  </tbody>\n",
              "</table>\n",
              "</div><br><label><b>dtype:</b> float64</label>"
            ]
          },
          "metadata": {},
          "execution_count": 54
        }
      ]
    },
    {
      "cell_type": "markdown",
      "source": [
        "### Columnas relevantes"
      ],
      "metadata": {
        "id": "-9nAPJTfO3Rm"
      }
    },
    {
      "cell_type": "markdown",
      "source": [
        "Luego de corregir ciertos datos, ahora se pasara a escoger los valores, necesarios para llevar a cabo nuestro análisis de evasión. Se seleccionarán únicamente aquellas columnas que aporten información relevante para explicar y predecir el fenómeno de cancelación de clientes (Churn).\n",
        "\n",
        "Este filtrado de columnas permitirá reducir el ruido en los datos, mejorar la eficiencia del análisis y concentrar el estudio en factores clave como el tipo de contrato, los servicios adicionales contratados, los métodos de pago, la antigüedad del cliente y los patrones de facturación mensual y total.\n",
        "\n",
        "La selección final de variables se ha realizado considerando tanto el conocimiento del negocio como el análisis exploratorio preliminar, garantizando que las variables elegidas tengan una relación potencial con el comportamiento de abandono de los clientes.\n",
        "\n",
        "\n",
        "**Churn**: indica si el cliente canceló (1) o permaneció (0).\n",
        "\n",
        "**customer.tenure**: Meses que el cliente lleva en la empresa; la antigüedad influye en la probabilidad de churn.\n",
        "\n",
        "**customer.SeniorCitizen**: Segmento etario que puede presentar patrones de retención distintos.\n",
        "\n",
        "**customer.Partner**: Clientes con pareja suelen mostrar mayor estabilidad contractual.\n",
        "\n",
        "**customer.Dependents**: Tener dependientes puede indicar mayor necesidad de estabilidad en servicios.\n",
        "\n",
        "**internet.InternetService**: Tipo de conexión contratada, que influye en costos y satisfacción.\n",
        "\n",
        "**internet.OnlineSecurity**: Servicio adicional que puede aumentar la permanencia.\n",
        "\n",
        "**internet.TechSupport**: Acceso a soporte técnico rápido, reduce insatisfacción.\n",
        "\n",
        "**account.Contract**: Contratos de mayor plazo suelen reducir el churn por penalizaciones o fidelización.\n",
        "\n",
        "**account.PaperlessBilling**: Facturación electrónica puede estar asociada a diferentes hábitos de pago.\n",
        "\n",
        "**account.PaymentMethod**: Algunos métodos de pago facilitan la retención (ej. débito automático).\n",
        "\n",
        "**account.Charges.Monthly**: Monto mensual pagado; valores altos pueden aumentar la probabilidad de churn.\n",
        "\n",
        "**account.Charges.Total**: Total pagado históricamente; útil para entender antigüedad y valor del cliente.\n",
        "\n",
        "**Cuentas\\_Diarias**: Gasto diario promedio, para un análisis más granular del comportamiento del cliente.\n"
      ],
      "metadata": {
        "id": "xyrXqZrQOOAN"
      }
    },
    {
      "cell_type": "markdown",
      "source": [],
      "metadata": {
        "id": "_UOUS4UHh-q9"
      }
    },
    {
      "cell_type": "markdown",
      "source": [
        "#📊 Carga y análisis"
      ],
      "metadata": {
        "id": "6XnTC2NTmMRL"
      }
    },
    {
      "cell_type": "markdown",
      "source": [
        "Para carga y análisis se usaran, las bibliotecas matplotlib y seaborn."
      ],
      "metadata": {
        "id": "AmV1ISGQneSk"
      }
    },
    {
      "cell_type": "code",
      "source": [
        "import matplotlib.pyplot as plt\n",
        "import seaborn as sns"
      ],
      "metadata": {
        "id": "1jgUnLqTmPdd"
      },
      "execution_count": 55,
      "outputs": []
    },
    {
      "cell_type": "code",
      "source": [],
      "metadata": {
        "id": "lzIF17_bndgq"
      },
      "execution_count": null,
      "outputs": []
    },
    {
      "cell_type": "markdown",
      "source": [
        "#📄Informe final"
      ],
      "metadata": {
        "id": "v-WzfSvTmaw9"
      }
    },
    {
      "cell_type": "code",
      "source": [],
      "metadata": {
        "id": "XMTac0YJmeK9"
      },
      "execution_count": 53,
      "outputs": []
    }
  ]
}